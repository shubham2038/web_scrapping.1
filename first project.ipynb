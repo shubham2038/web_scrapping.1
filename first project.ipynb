{
 "cells": [
  {
   "cell_type": "code",
   "execution_count": null,
   "metadata": {},
   "outputs": [],
   "source": [
    "import urllib.request\n",
    "import re\n",
    "\n",
    "htmlfile = urllib.request.urlopen(\"https://finance.yahoo.com/quote/AAPL?p=AAPL\")\n",
    "htmltext = htmlfile.read().decode('utf-8')\n",
    "regex = '<span class=\"Trsdu(0.3s) Fw(b) Fz(36px) Mb(-4px) D(ib)\">(.+?)</span>'\n",
    "pattern = re.compile(regex)\n",
    "price = re.findall(pattern,htmltext)\n",
    "print(price)"
   ]
  },
  {
   "cell_type": "code",
   "execution_count": null,
   "metadata": {},
   "outputs": [],
   "source": [
    "import urllib.request\n",
    "import re\n",
    "\n",
    "symbolslist = [\"AAPL\",\"SPY\",\"GOOG\",\"NFLX\"]\n",
    "\n",
    "i=0\n",
    "while i<len(symbolslist):\n",
    "    url = \"http://finance.yahoo.com/q?s=\" +symbolslist[i] +\"&ql=1\"\n",
    "    htmlfile = urllib.request.urlopen(url)\n",
    "    htmltext = htmlfile.read().decode('utf-8')\n",
    "    regex = '<span id=\"yfs_184_'+symbolslist[i] +'\">(.+?)</span>'\n",
    "    pattern = re.compile(regex)\n",
    "    price = re.findall(pattern,htmltext)\n",
    "    print (\"the price of\" ,symbolslist[i],\" is \" ,price)\n",
    "    i+=1"
   ]
  }
 ],
 "metadata": {
  "kernelspec": {
   "display_name": "Python 3",
   "language": "python",
   "name": "python3"
  },
  "language_info": {
   "codemirror_mode": {
    "name": "ipython",
    "version": 3
   },
   "file_extension": ".py",
   "mimetype": "text/x-python",
   "name": "python",
   "nbconvert_exporter": "python",
   "pygments_lexer": "ipython3",
   "version": "3.6.4"
  }
 },
 "nbformat": 4,
 "nbformat_minor": 2
}
